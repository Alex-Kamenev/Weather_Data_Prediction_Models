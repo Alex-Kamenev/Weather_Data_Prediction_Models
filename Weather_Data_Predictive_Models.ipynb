{
 "cells": [
  {
   "cell_type": "markdown",
   "id": "1b63b7c1",
   "metadata": {},
   "source": [
    "# Imports"
   ]
  },
  {
   "cell_type": "code",
   "execution_count": 249,
   "id": "3336057d",
   "metadata": {},
   "outputs": [],
   "source": [
    "import edapy.datainfo as d_info\n",
    "import edapy.load_data as d_load"
   ]
  },
  {
   "cell_type": "markdown",
   "id": "6b5c8312",
   "metadata": {},
   "source": [
    "# Load in Data"
   ]
  },
  {
   "cell_type": "code",
   "execution_count": 250,
   "id": "4a0df5be",
   "metadata": {},
   "outputs": [],
   "source": [
    "# load in data \n",
    "weather_df = d_load.load_df(r'data\\clean_weather_data.csv')"
   ]
  },
  {
   "cell_type": "code",
   "execution_count": 251,
   "id": "b96829ef",
   "metadata": {},
   "outputs": [],
   "source": [
    "# instantiate custom package class for eda \n",
    "data = d_info.DataInfo(weather_df)"
   ]
  },
  {
   "cell_type": "markdown",
   "id": "de1899ce",
   "metadata": {},
   "source": [
    "# Check Data for inconsistencies"
   ]
  },
  {
   "cell_type": "code",
   "execution_count": 252,
   "id": "33c4e86f",
   "metadata": {},
   "outputs": [
    {
     "data": {
      "text/html": [
       "<div>\n",
       "<style scoped>\n",
       "    .dataframe tbody tr th:only-of-type {\n",
       "        vertical-align: middle;\n",
       "    }\n",
       "\n",
       "    .dataframe tbody tr th {\n",
       "        vertical-align: top;\n",
       "    }\n",
       "\n",
       "    .dataframe thead th {\n",
       "        text-align: right;\n",
       "    }\n",
       "</style>\n",
       "<table border=\"1\" class=\"dataframe\">\n",
       "  <thead>\n",
       "    <tr style=\"text-align: right;\">\n",
       "      <th></th>\n",
       "      <th>STATION</th>\n",
       "      <th>NAME</th>\n",
       "      <th>LATITUDE</th>\n",
       "      <th>LONGITUDE</th>\n",
       "      <th>ELEVATION</th>\n",
       "      <th>DATE</th>\n",
       "      <th>AWND</th>\n",
       "      <th>PRCP</th>\n",
       "      <th>SNOW</th>\n",
       "      <th>SNWD</th>\n",
       "      <th>...</th>\n",
       "      <th>TMIN</th>\n",
       "      <th>WDF2</th>\n",
       "      <th>WSF2</th>\n",
       "      <th>YEAR</th>\n",
       "      <th>MONTH</th>\n",
       "      <th>DAY</th>\n",
       "      <th>DAYS_SINCE_JAN_1</th>\n",
       "      <th>COUNTY</th>\n",
       "      <th>id</th>\n",
       "      <th>SUM_TAVG</th>\n",
       "    </tr>\n",
       "  </thead>\n",
       "  <tbody>\n",
       "    <tr>\n",
       "      <th>0</th>\n",
       "      <td>USW00014733</td>\n",
       "      <td>BUFFALO NIAGARA INTERNATIONAL, NY US</td>\n",
       "      <td>42.93998</td>\n",
       "      <td>-78.73606</td>\n",
       "      <td>216.2</td>\n",
       "      <td>2015-01-01</td>\n",
       "      <td>24.61</td>\n",
       "      <td>0.00</td>\n",
       "      <td>0.3</td>\n",
       "      <td>1.2</td>\n",
       "      <td>...</td>\n",
       "      <td>20.0</td>\n",
       "      <td>240</td>\n",
       "      <td>40.0</td>\n",
       "      <td>2015</td>\n",
       "      <td>1</td>\n",
       "      <td>1</td>\n",
       "      <td>0</td>\n",
       "      <td>Niagara Falls</td>\n",
       "      <td>3651055</td>\n",
       "      <td>49.910812</td>\n",
       "    </tr>\n",
       "    <tr>\n",
       "      <th>1</th>\n",
       "      <td>USW00014733</td>\n",
       "      <td>BUFFALO NIAGARA INTERNATIONAL, NY US</td>\n",
       "      <td>42.93998</td>\n",
       "      <td>-78.73606</td>\n",
       "      <td>216.2</td>\n",
       "      <td>2015-01-02</td>\n",
       "      <td>13.20</td>\n",
       "      <td>0.00</td>\n",
       "      <td>0.0</td>\n",
       "      <td>1.2</td>\n",
       "      <td>...</td>\n",
       "      <td>22.0</td>\n",
       "      <td>250</td>\n",
       "      <td>29.1</td>\n",
       "      <td>2015</td>\n",
       "      <td>1</td>\n",
       "      <td>2</td>\n",
       "      <td>1</td>\n",
       "      <td>Niagara Falls</td>\n",
       "      <td>3651055</td>\n",
       "      <td>49.910812</td>\n",
       "    </tr>\n",
       "    <tr>\n",
       "      <th>2</th>\n",
       "      <td>USW00014733</td>\n",
       "      <td>BUFFALO NIAGARA INTERNATIONAL, NY US</td>\n",
       "      <td>42.93998</td>\n",
       "      <td>-78.73606</td>\n",
       "      <td>216.2</td>\n",
       "      <td>2015-01-03</td>\n",
       "      <td>8.50</td>\n",
       "      <td>0.58</td>\n",
       "      <td>0.0</td>\n",
       "      <td>0.0</td>\n",
       "      <td>...</td>\n",
       "      <td>22.0</td>\n",
       "      <td>60</td>\n",
       "      <td>15.0</td>\n",
       "      <td>2015</td>\n",
       "      <td>1</td>\n",
       "      <td>3</td>\n",
       "      <td>2</td>\n",
       "      <td>Niagara Falls</td>\n",
       "      <td>3651055</td>\n",
       "      <td>49.910812</td>\n",
       "    </tr>\n",
       "    <tr>\n",
       "      <th>3</th>\n",
       "      <td>USW00014733</td>\n",
       "      <td>BUFFALO NIAGARA INTERNATIONAL, NY US</td>\n",
       "      <td>42.93998</td>\n",
       "      <td>-78.73606</td>\n",
       "      <td>216.2</td>\n",
       "      <td>2015-01-04</td>\n",
       "      <td>17.67</td>\n",
       "      <td>0.52</td>\n",
       "      <td>0.0</td>\n",
       "      <td>0.0</td>\n",
       "      <td>...</td>\n",
       "      <td>28.0</td>\n",
       "      <td>250</td>\n",
       "      <td>38.0</td>\n",
       "      <td>2015</td>\n",
       "      <td>1</td>\n",
       "      <td>4</td>\n",
       "      <td>3</td>\n",
       "      <td>Niagara Falls</td>\n",
       "      <td>3651055</td>\n",
       "      <td>49.910812</td>\n",
       "    </tr>\n",
       "    <tr>\n",
       "      <th>4</th>\n",
       "      <td>USW00014733</td>\n",
       "      <td>BUFFALO NIAGARA INTERNATIONAL, NY US</td>\n",
       "      <td>42.93998</td>\n",
       "      <td>-78.73606</td>\n",
       "      <td>216.2</td>\n",
       "      <td>2015-01-05</td>\n",
       "      <td>19.24</td>\n",
       "      <td>0.00</td>\n",
       "      <td>0.1</td>\n",
       "      <td>0.0</td>\n",
       "      <td>...</td>\n",
       "      <td>9.0</td>\n",
       "      <td>270</td>\n",
       "      <td>31.1</td>\n",
       "      <td>2015</td>\n",
       "      <td>1</td>\n",
       "      <td>5</td>\n",
       "      <td>4</td>\n",
       "      <td>Niagara Falls</td>\n",
       "      <td>3651055</td>\n",
       "      <td>49.910812</td>\n",
       "    </tr>\n",
       "  </tbody>\n",
       "</table>\n",
       "<p>5 rows × 22 columns</p>\n",
       "</div>"
      ],
      "text/plain": [
       "       STATION                                  NAME  LATITUDE  LONGITUDE  \\\n",
       "0  USW00014733  BUFFALO NIAGARA INTERNATIONAL, NY US  42.93998  -78.73606   \n",
       "1  USW00014733  BUFFALO NIAGARA INTERNATIONAL, NY US  42.93998  -78.73606   \n",
       "2  USW00014733  BUFFALO NIAGARA INTERNATIONAL, NY US  42.93998  -78.73606   \n",
       "3  USW00014733  BUFFALO NIAGARA INTERNATIONAL, NY US  42.93998  -78.73606   \n",
       "4  USW00014733  BUFFALO NIAGARA INTERNATIONAL, NY US  42.93998  -78.73606   \n",
       "\n",
       "   ELEVATION        DATE   AWND  PRCP  SNOW  SNWD  ...  TMIN  WDF2  WSF2  \\\n",
       "0      216.2  2015-01-01  24.61  0.00   0.3   1.2  ...  20.0   240  40.0   \n",
       "1      216.2  2015-01-02  13.20  0.00   0.0   1.2  ...  22.0   250  29.1   \n",
       "2      216.2  2015-01-03   8.50  0.58   0.0   0.0  ...  22.0    60  15.0   \n",
       "3      216.2  2015-01-04  17.67  0.52   0.0   0.0  ...  28.0   250  38.0   \n",
       "4      216.2  2015-01-05  19.24  0.00   0.1   0.0  ...   9.0   270  31.1   \n",
       "\n",
       "   YEAR  MONTH  DAY  DAYS_SINCE_JAN_1         COUNTY       id   SUM_TAVG  \n",
       "0  2015      1    1                 0  Niagara Falls  3651055  49.910812  \n",
       "1  2015      1    2                 1  Niagara Falls  3651055  49.910812  \n",
       "2  2015      1    3                 2  Niagara Falls  3651055  49.910812  \n",
       "3  2015      1    4                 3  Niagara Falls  3651055  49.910812  \n",
       "4  2015      1    5                 4  Niagara Falls  3651055  49.910812  \n",
       "\n",
       "[5 rows x 22 columns]"
      ]
     },
     "metadata": {},
     "output_type": "display_data"
    },
    {
     "data": {
      "text/html": [
       "<div>\n",
       "<style scoped>\n",
       "    .dataframe tbody tr th:only-of-type {\n",
       "        vertical-align: middle;\n",
       "    }\n",
       "\n",
       "    .dataframe tbody tr th {\n",
       "        vertical-align: top;\n",
       "    }\n",
       "\n",
       "    .dataframe thead th {\n",
       "        text-align: right;\n",
       "    }\n",
       "</style>\n",
       "<table border=\"1\" class=\"dataframe\">\n",
       "  <thead>\n",
       "    <tr style=\"text-align: right;\">\n",
       "      <th></th>\n",
       "      <th>LATITUDE</th>\n",
       "      <th>LONGITUDE</th>\n",
       "      <th>ELEVATION</th>\n",
       "      <th>AWND</th>\n",
       "      <th>PRCP</th>\n",
       "      <th>SNOW</th>\n",
       "      <th>SNWD</th>\n",
       "      <th>TAVG</th>\n",
       "      <th>TMAX</th>\n",
       "      <th>TMIN</th>\n",
       "      <th>WDF2</th>\n",
       "      <th>WSF2</th>\n",
       "      <th>YEAR</th>\n",
       "      <th>MONTH</th>\n",
       "      <th>DAY</th>\n",
       "      <th>DAYS_SINCE_JAN_1</th>\n",
       "      <th>id</th>\n",
       "      <th>SUM_TAVG</th>\n",
       "    </tr>\n",
       "  </thead>\n",
       "  <tbody>\n",
       "    <tr>\n",
       "      <th>count</th>\n",
       "      <td>10960.000000</td>\n",
       "      <td>10960.000000</td>\n",
       "      <td>10960.000000</td>\n",
       "      <td>10960.000000</td>\n",
       "      <td>10960.000000</td>\n",
       "      <td>10960.000000</td>\n",
       "      <td>10960.000000</td>\n",
       "      <td>10960.000000</td>\n",
       "      <td>10960.000000</td>\n",
       "      <td>10960.000000</td>\n",
       "      <td>10960.000000</td>\n",
       "      <td>10960.000000</td>\n",
       "      <td>10960.000000</td>\n",
       "      <td>10960.000000</td>\n",
       "      <td>10960.000000</td>\n",
       "      <td>10960.000000</td>\n",
       "      <td>1.096000e+04</td>\n",
       "      <td>10960.000000</td>\n",
       "    </tr>\n",
       "    <tr>\n",
       "      <th>mean</th>\n",
       "      <td>41.865404</td>\n",
       "      <td>-75.076166</td>\n",
       "      <td>163.080000</td>\n",
       "      <td>9.319626</td>\n",
       "      <td>0.118629</td>\n",
       "      <td>0.167527</td>\n",
       "      <td>0.736168</td>\n",
       "      <td>51.470620</td>\n",
       "      <td>59.713070</td>\n",
       "      <td>43.196807</td>\n",
       "      <td>220.053832</td>\n",
       "      <td>19.880648</td>\n",
       "      <td>2017.500456</td>\n",
       "      <td>6.521898</td>\n",
       "      <td>15.732664</td>\n",
       "      <td>182.166971</td>\n",
       "      <td>3.629506e+06</td>\n",
       "      <td>51.470620</td>\n",
       "    </tr>\n",
       "    <tr>\n",
       "      <th>std</th>\n",
       "      <td>0.969652</td>\n",
       "      <td>2.071932</td>\n",
       "      <td>177.556465</td>\n",
       "      <td>4.057588</td>\n",
       "      <td>0.292703</td>\n",
       "      <td>1.045389</td>\n",
       "      <td>2.729762</td>\n",
       "      <td>18.225619</td>\n",
       "      <td>19.317337</td>\n",
       "      <td>17.990991</td>\n",
       "      <td>94.062662</td>\n",
       "      <td>6.596222</td>\n",
       "      <td>1.708259</td>\n",
       "      <td>3.449144</td>\n",
       "      <td>8.801772</td>\n",
       "      <td>105.467593</td>\n",
       "      <td>2.160306e+04</td>\n",
       "      <td>3.050087</td>\n",
       "    </tr>\n",
       "    <tr>\n",
       "      <th>min</th>\n",
       "      <td>40.639150</td>\n",
       "      <td>-78.736060</td>\n",
       "      <td>2.700000</td>\n",
       "      <td>0.450000</td>\n",
       "      <td>0.000000</td>\n",
       "      <td>0.000000</td>\n",
       "      <td>0.000000</td>\n",
       "      <td>-6.000000</td>\n",
       "      <td>1.000000</td>\n",
       "      <td>-18.000000</td>\n",
       "      <td>10.000000</td>\n",
       "      <td>4.900000</td>\n",
       "      <td>2015.000000</td>\n",
       "      <td>1.000000</td>\n",
       "      <td>1.000000</td>\n",
       "      <td>0.000000</td>\n",
       "      <td>3.601000e+06</td>\n",
       "      <td>47.158303</td>\n",
       "    </tr>\n",
       "    <tr>\n",
       "      <th>25%</th>\n",
       "      <td>40.793890</td>\n",
       "      <td>-75.979930</td>\n",
       "      <td>25.400000</td>\n",
       "      <td>6.490000</td>\n",
       "      <td>0.000000</td>\n",
       "      <td>0.000000</td>\n",
       "      <td>0.000000</td>\n",
       "      <td>37.000000</td>\n",
       "      <td>44.000000</td>\n",
       "      <td>30.000000</td>\n",
       "      <td>170.000000</td>\n",
       "      <td>15.000000</td>\n",
       "      <td>2016.000000</td>\n",
       "      <td>4.000000</td>\n",
       "      <td>8.000000</td>\n",
       "      <td>91.000000</td>\n",
       "      <td>3.606607e+06</td>\n",
       "      <td>49.910812</td>\n",
       "    </tr>\n",
       "    <tr>\n",
       "      <th>50%</th>\n",
       "      <td>42.206780</td>\n",
       "      <td>-73.799130</td>\n",
       "      <td>85.400000</td>\n",
       "      <td>8.720000</td>\n",
       "      <td>0.000000</td>\n",
       "      <td>0.000000</td>\n",
       "      <td>0.000000</td>\n",
       "      <td>52.000000</td>\n",
       "      <td>61.000000</td>\n",
       "      <td>43.000000</td>\n",
       "      <td>230.000000</td>\n",
       "      <td>19.900000</td>\n",
       "      <td>2017.500000</td>\n",
       "      <td>7.000000</td>\n",
       "      <td>16.000000</td>\n",
       "      <td>182.000000</td>\n",
       "      <td>3.637869e+06</td>\n",
       "      <td>50.492701</td>\n",
       "    </tr>\n",
       "    <tr>\n",
       "      <th>75%</th>\n",
       "      <td>42.747220</td>\n",
       "      <td>-73.763900</td>\n",
       "      <td>216.200000</td>\n",
       "      <td>11.410000</td>\n",
       "      <td>0.070000</td>\n",
       "      <td>0.000000</td>\n",
       "      <td>0.000000</td>\n",
       "      <td>68.000000</td>\n",
       "      <td>77.000000</td>\n",
       "      <td>59.000000</td>\n",
       "      <td>300.000000</td>\n",
       "      <td>23.900000</td>\n",
       "      <td>2019.000000</td>\n",
       "      <td>10.000000</td>\n",
       "      <td>23.000000</td>\n",
       "      <td>273.250000</td>\n",
       "      <td>3.651000e+06</td>\n",
       "      <td>54.166286</td>\n",
       "    </tr>\n",
       "    <tr>\n",
       "      <th>max</th>\n",
       "      <td>42.939980</td>\n",
       "      <td>-73.101810</td>\n",
       "      <td>485.700000</td>\n",
       "      <td>29.970000</td>\n",
       "      <td>4.020000</td>\n",
       "      <td>31.200000</td>\n",
       "      <td>39.000000</td>\n",
       "      <td>89.000000</td>\n",
       "      <td>99.000000</td>\n",
       "      <td>82.000000</td>\n",
       "      <td>360.000000</td>\n",
       "      <td>67.100000</td>\n",
       "      <td>2020.000000</td>\n",
       "      <td>12.000000</td>\n",
       "      <td>31.000000</td>\n",
       "      <td>365.000000</td>\n",
       "      <td>3.651055e+06</td>\n",
       "      <td>55.625000</td>\n",
       "    </tr>\n",
       "  </tbody>\n",
       "</table>\n",
       "</div>"
      ],
      "text/plain": [
       "           LATITUDE     LONGITUDE     ELEVATION          AWND          PRCP  \\\n",
       "count  10960.000000  10960.000000  10960.000000  10960.000000  10960.000000   \n",
       "mean      41.865404    -75.076166    163.080000      9.319626      0.118629   \n",
       "std        0.969652      2.071932    177.556465      4.057588      0.292703   \n",
       "min       40.639150    -78.736060      2.700000      0.450000      0.000000   \n",
       "25%       40.793890    -75.979930     25.400000      6.490000      0.000000   \n",
       "50%       42.206780    -73.799130     85.400000      8.720000      0.000000   \n",
       "75%       42.747220    -73.763900    216.200000     11.410000      0.070000   \n",
       "max       42.939980    -73.101810    485.700000     29.970000      4.020000   \n",
       "\n",
       "               SNOW          SNWD          TAVG          TMAX          TMIN  \\\n",
       "count  10960.000000  10960.000000  10960.000000  10960.000000  10960.000000   \n",
       "mean       0.167527      0.736168     51.470620     59.713070     43.196807   \n",
       "std        1.045389      2.729762     18.225619     19.317337     17.990991   \n",
       "min        0.000000      0.000000     -6.000000      1.000000    -18.000000   \n",
       "25%        0.000000      0.000000     37.000000     44.000000     30.000000   \n",
       "50%        0.000000      0.000000     52.000000     61.000000     43.000000   \n",
       "75%        0.000000      0.000000     68.000000     77.000000     59.000000   \n",
       "max       31.200000     39.000000     89.000000     99.000000     82.000000   \n",
       "\n",
       "               WDF2          WSF2          YEAR         MONTH           DAY  \\\n",
       "count  10960.000000  10960.000000  10960.000000  10960.000000  10960.000000   \n",
       "mean     220.053832     19.880648   2017.500456      6.521898     15.732664   \n",
       "std       94.062662      6.596222      1.708259      3.449144      8.801772   \n",
       "min       10.000000      4.900000   2015.000000      1.000000      1.000000   \n",
       "25%      170.000000     15.000000   2016.000000      4.000000      8.000000   \n",
       "50%      230.000000     19.900000   2017.500000      7.000000     16.000000   \n",
       "75%      300.000000     23.900000   2019.000000     10.000000     23.000000   \n",
       "max      360.000000     67.100000   2020.000000     12.000000     31.000000   \n",
       "\n",
       "       DAYS_SINCE_JAN_1            id      SUM_TAVG  \n",
       "count      10960.000000  1.096000e+04  10960.000000  \n",
       "mean         182.166971  3.629506e+06     51.470620  \n",
       "std          105.467593  2.160306e+04      3.050087  \n",
       "min            0.000000  3.601000e+06     47.158303  \n",
       "25%           91.000000  3.606607e+06     49.910812  \n",
       "50%          182.000000  3.637869e+06     50.492701  \n",
       "75%          273.250000  3.651000e+06     54.166286  \n",
       "max          365.000000  3.651055e+06     55.625000  "
      ]
     },
     "metadata": {},
     "output_type": "display_data"
    },
    {
     "name": "stdout",
     "output_type": "stream",
     "text": [
      "<class 'pandas.core.frame.DataFrame'>\n",
      "RangeIndex: 10960 entries, 0 to 10959\n",
      "Data columns (total 22 columns):\n",
      " #   Column            Non-Null Count  Dtype  \n",
      "---  ------            --------------  -----  \n",
      " 0   STATION           10960 non-null  object \n",
      " 1   NAME              10960 non-null  object \n",
      " 2   LATITUDE          10960 non-null  float64\n",
      " 3   LONGITUDE         10960 non-null  float64\n",
      " 4   ELEVATION         10960 non-null  float64\n",
      " 5   DATE              10960 non-null  object \n",
      " 6   AWND              10960 non-null  float64\n",
      " 7   PRCP              10960 non-null  float64\n",
      " 8   SNOW              10960 non-null  float64\n",
      " 9   SNWD              10960 non-null  float64\n",
      " 10  TAVG              10960 non-null  float64\n",
      " 11  TMAX              10960 non-null  float64\n",
      " 12  TMIN              10960 non-null  float64\n",
      " 13  WDF2              10960 non-null  int64  \n",
      " 14  WSF2              10960 non-null  float64\n",
      " 15  YEAR              10960 non-null  int64  \n",
      " 16  MONTH             10960 non-null  int64  \n",
      " 17  DAY               10960 non-null  int64  \n",
      " 18  DAYS_SINCE_JAN_1  10960 non-null  int64  \n",
      " 19  COUNTY            10960 non-null  object \n",
      " 20  id                10960 non-null  int64  \n",
      " 21  SUM_TAVG          10960 non-null  float64\n",
      "dtypes: float64(12), int64(6), object(4)\n",
      "memory usage: 1.8+ MB\n"
     ]
    },
    {
     "data": {
      "text/plain": [
       "None"
      ]
     },
     "metadata": {},
     "output_type": "display_data"
    }
   ],
   "source": [
    "data.describe()"
   ]
  },
  {
   "cell_type": "markdown",
   "id": "094977f3",
   "metadata": {},
   "source": [
    "# Feature engineering"
   ]
  },
  {
   "cell_type": "markdown",
   "id": "bfd8013c",
   "metadata": {},
   "source": [
    "# Standardization and Normalization"
   ]
  },
  {
   "cell_type": "markdown",
   "id": "3cadca89",
   "metadata": {},
   "source": [
    "cycle per model\n",
    "<!--  -->"
   ]
  },
  {
   "cell_type": "markdown",
   "id": "6ebd747f",
   "metadata": {},
   "source": [
    "# Feature Selection"
   ]
  },
  {
   "cell_type": "code",
   "execution_count": 254,
   "id": "8d5b0abc",
   "metadata": {},
   "outputs": [],
   "source": [
    "from sklearn.preprocessing import MinMaxScaler\n",
    "import numpy as np  \n",
    "# apply normalization techniques\n",
    "\n",
    "columns_x=['AWND', 'SNOW', 'SNWD', 'TAVG', 'WDF2', 'WSF2','TMAX', 'TMIN', 'SUM_TAVG','PRCP']\n",
    "for column in columns_x:\n",
    "    weather_df[column] = MinMaxScaler().fit_transform(np.array(weather_df[column]).reshape(-1,1))\n"
   ]
  },
  {
   "cell_type": "markdown",
   "id": "239e1f48",
   "metadata": {},
   "source": [
    "# Train and test split "
   ]
  },
  {
   "cell_type": "code",
   "execution_count": 255,
   "id": "a4342711",
   "metadata": {},
   "outputs": [],
   "source": [
    "X = weather_df[['AWND', 'SNOW', 'SNWD', 'TAVG', 'WDF2', 'WSF2']]"
   ]
  },
  {
   "cell_type": "code",
   "execution_count": 256,
   "id": "c5cc5591",
   "metadata": {},
   "outputs": [],
   "source": [
    "Y=weather_df['PRCP']"
   ]
  },
  {
   "cell_type": "code",
   "execution_count": 257,
   "id": "bf6707b1",
   "metadata": {},
   "outputs": [
    {
     "data": {
      "text/html": [
       "<div>\n",
       "<style scoped>\n",
       "    .dataframe tbody tr th:only-of-type {\n",
       "        vertical-align: middle;\n",
       "    }\n",
       "\n",
       "    .dataframe tbody tr th {\n",
       "        vertical-align: top;\n",
       "    }\n",
       "\n",
       "    .dataframe thead th {\n",
       "        text-align: right;\n",
       "    }\n",
       "</style>\n",
       "<table border=\"1\" class=\"dataframe\">\n",
       "  <thead>\n",
       "    <tr style=\"text-align: right;\">\n",
       "      <th></th>\n",
       "      <th>AWND</th>\n",
       "      <th>SNOW</th>\n",
       "      <th>SNWD</th>\n",
       "      <th>TAVG</th>\n",
       "      <th>WDF2</th>\n",
       "      <th>WSF2</th>\n",
       "    </tr>\n",
       "  </thead>\n",
       "  <tbody>\n",
       "    <tr>\n",
       "      <th>0</th>\n",
       "      <td>0.818428</td>\n",
       "      <td>0.009615</td>\n",
       "      <td>0.030769</td>\n",
       "      <td>0.305263</td>\n",
       "      <td>0.657143</td>\n",
       "      <td>0.564309</td>\n",
       "    </tr>\n",
       "    <tr>\n",
       "      <th>1</th>\n",
       "      <td>0.431911</td>\n",
       "      <td>0.000000</td>\n",
       "      <td>0.030769</td>\n",
       "      <td>0.389474</td>\n",
       "      <td>0.685714</td>\n",
       "      <td>0.389068</td>\n",
       "    </tr>\n",
       "    <tr>\n",
       "      <th>2</th>\n",
       "      <td>0.272696</td>\n",
       "      <td>0.000000</td>\n",
       "      <td>0.000000</td>\n",
       "      <td>0.347368</td>\n",
       "      <td>0.142857</td>\n",
       "      <td>0.162379</td>\n",
       "    </tr>\n",
       "    <tr>\n",
       "      <th>3</th>\n",
       "      <td>0.583333</td>\n",
       "      <td>0.000000</td>\n",
       "      <td>0.000000</td>\n",
       "      <td>0.526316</td>\n",
       "      <td>0.685714</td>\n",
       "      <td>0.532154</td>\n",
       "    </tr>\n",
       "    <tr>\n",
       "      <th>4</th>\n",
       "      <td>0.636518</td>\n",
       "      <td>0.003205</td>\n",
       "      <td>0.000000</td>\n",
       "      <td>0.273684</td>\n",
       "      <td>0.742857</td>\n",
       "      <td>0.421222</td>\n",
       "    </tr>\n",
       "    <tr>\n",
       "      <th>...</th>\n",
       "      <td>...</td>\n",
       "      <td>...</td>\n",
       "      <td>...</td>\n",
       "      <td>...</td>\n",
       "      <td>...</td>\n",
       "      <td>...</td>\n",
       "    </tr>\n",
       "    <tr>\n",
       "      <th>10955</th>\n",
       "      <td>0.242547</td>\n",
       "      <td>0.000000</td>\n",
       "      <td>0.000000</td>\n",
       "      <td>0.368421</td>\n",
       "      <td>0.771429</td>\n",
       "      <td>0.241158</td>\n",
       "    </tr>\n",
       "    <tr>\n",
       "      <th>10956</th>\n",
       "      <td>0.356030</td>\n",
       "      <td>0.000000</td>\n",
       "      <td>0.000000</td>\n",
       "      <td>0.494737</td>\n",
       "      <td>0.742857</td>\n",
       "      <td>0.241158</td>\n",
       "    </tr>\n",
       "    <tr>\n",
       "      <th>10957</th>\n",
       "      <td>0.530488</td>\n",
       "      <td>0.000000</td>\n",
       "      <td>0.000000</td>\n",
       "      <td>0.484211</td>\n",
       "      <td>0.914286</td>\n",
       "      <td>0.389068</td>\n",
       "    </tr>\n",
       "    <tr>\n",
       "      <th>10958</th>\n",
       "      <td>0.310637</td>\n",
       "      <td>0.000000</td>\n",
       "      <td>0.000000</td>\n",
       "      <td>0.410526</td>\n",
       "      <td>0.571429</td>\n",
       "      <td>0.241158</td>\n",
       "    </tr>\n",
       "    <tr>\n",
       "      <th>10959</th>\n",
       "      <td>0.363482</td>\n",
       "      <td>0.000000</td>\n",
       "      <td>0.000000</td>\n",
       "      <td>0.526316</td>\n",
       "      <td>0.914286</td>\n",
       "      <td>0.258842</td>\n",
       "    </tr>\n",
       "  </tbody>\n",
       "</table>\n",
       "<p>10960 rows × 6 columns</p>\n",
       "</div>"
      ],
      "text/plain": [
       "           AWND      SNOW      SNWD      TAVG      WDF2      WSF2\n",
       "0      0.818428  0.009615  0.030769  0.305263  0.657143  0.564309\n",
       "1      0.431911  0.000000  0.030769  0.389474  0.685714  0.389068\n",
       "2      0.272696  0.000000  0.000000  0.347368  0.142857  0.162379\n",
       "3      0.583333  0.000000  0.000000  0.526316  0.685714  0.532154\n",
       "4      0.636518  0.003205  0.000000  0.273684  0.742857  0.421222\n",
       "...         ...       ...       ...       ...       ...       ...\n",
       "10955  0.242547  0.000000  0.000000  0.368421  0.771429  0.241158\n",
       "10956  0.356030  0.000000  0.000000  0.494737  0.742857  0.241158\n",
       "10957  0.530488  0.000000  0.000000  0.484211  0.914286  0.389068\n",
       "10958  0.310637  0.000000  0.000000  0.410526  0.571429  0.241158\n",
       "10959  0.363482  0.000000  0.000000  0.526316  0.914286  0.258842\n",
       "\n",
       "[10960 rows x 6 columns]"
      ]
     },
     "execution_count": 257,
     "metadata": {},
     "output_type": "execute_result"
    }
   ],
   "source": [
    "X"
   ]
  },
  {
   "cell_type": "code",
   "execution_count": 258,
   "id": "22405682",
   "metadata": {},
   "outputs": [],
   "source": [
    "from sklearn.model_selection import train_test_split"
   ]
  },
  {
   "cell_type": "code",
   "execution_count": 259,
   "id": "d7633e6b",
   "metadata": {},
   "outputs": [],
   "source": [
    "X_train, X_test, Y_train,Y_test = train_test_split(X,Y,test_size = 0.3, random_state = 101)"
   ]
  },
  {
   "cell_type": "code",
   "execution_count": 260,
   "id": "ca64724f",
   "metadata": {},
   "outputs": [
    {
     "data": {
      "text/html": [
       "<div>\n",
       "<style scoped>\n",
       "    .dataframe tbody tr th:only-of-type {\n",
       "        vertical-align: middle;\n",
       "    }\n",
       "\n",
       "    .dataframe tbody tr th {\n",
       "        vertical-align: top;\n",
       "    }\n",
       "\n",
       "    .dataframe thead th {\n",
       "        text-align: right;\n",
       "    }\n",
       "</style>\n",
       "<table border=\"1\" class=\"dataframe\">\n",
       "  <thead>\n",
       "    <tr style=\"text-align: right;\">\n",
       "      <th></th>\n",
       "      <th>AWND</th>\n",
       "      <th>SNOW</th>\n",
       "      <th>SNWD</th>\n",
       "      <th>TAVG</th>\n",
       "      <th>WDF2</th>\n",
       "      <th>WSF2</th>\n",
       "    </tr>\n",
       "  </thead>\n",
       "  <tbody>\n",
       "    <tr>\n",
       "      <th>5255</th>\n",
       "      <td>0.356030</td>\n",
       "      <td>0.0</td>\n",
       "      <td>0.000000</td>\n",
       "      <td>0.663158</td>\n",
       "      <td>0.400000</td>\n",
       "      <td>0.241158</td>\n",
       "    </tr>\n",
       "    <tr>\n",
       "      <th>6158</th>\n",
       "      <td>0.227304</td>\n",
       "      <td>0.0</td>\n",
       "      <td>0.030769</td>\n",
       "      <td>0.421053</td>\n",
       "      <td>0.685714</td>\n",
       "      <td>0.162379</td>\n",
       "    </tr>\n",
       "    <tr>\n",
       "      <th>1262</th>\n",
       "      <td>0.227304</td>\n",
       "      <td>0.0</td>\n",
       "      <td>0.000000</td>\n",
       "      <td>0.789474</td>\n",
       "      <td>0.628571</td>\n",
       "      <td>0.162379</td>\n",
       "    </tr>\n",
       "    <tr>\n",
       "      <th>3936</th>\n",
       "      <td>0.158875</td>\n",
       "      <td>0.0</td>\n",
       "      <td>0.000000</td>\n",
       "      <td>0.642105</td>\n",
       "      <td>0.057143</td>\n",
       "      <td>0.147910</td>\n",
       "    </tr>\n",
       "    <tr>\n",
       "      <th>242</th>\n",
       "      <td>0.333333</td>\n",
       "      <td>0.0</td>\n",
       "      <td>0.000000</td>\n",
       "      <td>0.821053</td>\n",
       "      <td>0.628571</td>\n",
       "      <td>0.241158</td>\n",
       "    </tr>\n",
       "    <tr>\n",
       "      <th>...</th>\n",
       "      <td>...</td>\n",
       "      <td>...</td>\n",
       "      <td>...</td>\n",
       "      <td>...</td>\n",
       "      <td>...</td>\n",
       "      <td>...</td>\n",
       "    </tr>\n",
       "    <tr>\n",
       "      <th>599</th>\n",
       "      <td>0.257453</td>\n",
       "      <td>0.0</td>\n",
       "      <td>0.000000</td>\n",
       "      <td>0.768421</td>\n",
       "      <td>0.657143</td>\n",
       "      <td>0.212219</td>\n",
       "    </tr>\n",
       "    <tr>\n",
       "      <th>5695</th>\n",
       "      <td>0.121274</td>\n",
       "      <td>0.0</td>\n",
       "      <td>0.000000</td>\n",
       "      <td>0.810526</td>\n",
       "      <td>0.771429</td>\n",
       "      <td>0.147910</td>\n",
       "    </tr>\n",
       "    <tr>\n",
       "      <th>8006</th>\n",
       "      <td>0.143970</td>\n",
       "      <td>0.0</td>\n",
       "      <td>0.000000</td>\n",
       "      <td>0.473684</td>\n",
       "      <td>0.028571</td>\n",
       "      <td>0.083601</td>\n",
       "    </tr>\n",
       "    <tr>\n",
       "      <th>1361</th>\n",
       "      <td>0.189363</td>\n",
       "      <td>0.0</td>\n",
       "      <td>0.000000</td>\n",
       "      <td>0.652632</td>\n",
       "      <td>0.228571</td>\n",
       "      <td>0.130225</td>\n",
       "    </tr>\n",
       "    <tr>\n",
       "      <th>1547</th>\n",
       "      <td>0.454607</td>\n",
       "      <td>0.0</td>\n",
       "      <td>0.000000</td>\n",
       "      <td>0.526316</td>\n",
       "      <td>0.571429</td>\n",
       "      <td>0.305466</td>\n",
       "    </tr>\n",
       "  </tbody>\n",
       "</table>\n",
       "<p>7672 rows × 6 columns</p>\n",
       "</div>"
      ],
      "text/plain": [
       "          AWND  SNOW      SNWD      TAVG      WDF2      WSF2\n",
       "5255  0.356030   0.0  0.000000  0.663158  0.400000  0.241158\n",
       "6158  0.227304   0.0  0.030769  0.421053  0.685714  0.162379\n",
       "1262  0.227304   0.0  0.000000  0.789474  0.628571  0.162379\n",
       "3936  0.158875   0.0  0.000000  0.642105  0.057143  0.147910\n",
       "242   0.333333   0.0  0.000000  0.821053  0.628571  0.241158\n",
       "...        ...   ...       ...       ...       ...       ...\n",
       "599   0.257453   0.0  0.000000  0.768421  0.657143  0.212219\n",
       "5695  0.121274   0.0  0.000000  0.810526  0.771429  0.147910\n",
       "8006  0.143970   0.0  0.000000  0.473684  0.028571  0.083601\n",
       "1361  0.189363   0.0  0.000000  0.652632  0.228571  0.130225\n",
       "1547  0.454607   0.0  0.000000  0.526316  0.571429  0.305466\n",
       "\n",
       "[7672 rows x 6 columns]"
      ]
     },
     "execution_count": 260,
     "metadata": {},
     "output_type": "execute_result"
    }
   ],
   "source": [
    "X_train"
   ]
  },
  {
   "cell_type": "markdown",
   "id": "077d8209",
   "metadata": {},
   "source": [
    "# Resampling - dealing with imbalanced data"
   ]
  },
  {
   "cell_type": "markdown",
   "id": "ddf6385a",
   "metadata": {},
   "source": [
    "# Define models"
   ]
  },
  {
   "cell_type": "code",
   "execution_count": 261,
   "id": "8ed91c09",
   "metadata": {},
   "outputs": [],
   "source": [
    "from sklearn.linear_model import LinearRegression"
   ]
  },
  {
   "cell_type": "code",
   "execution_count": 262,
   "id": "947561b0",
   "metadata": {},
   "outputs": [],
   "source": [
    "lm = LinearRegression()"
   ]
  },
  {
   "cell_type": "markdown",
   "id": "0d27098c",
   "metadata": {},
   "source": [
    "# Train - fit"
   ]
  },
  {
   "cell_type": "code",
   "execution_count": 263,
   "id": "0514109c",
   "metadata": {},
   "outputs": [
    {
     "data": {
      "text/plain": [
       "LinearRegression()"
      ]
     },
     "execution_count": 263,
     "metadata": {},
     "output_type": "execute_result"
    }
   ],
   "source": [
    "lm.fit(X_train, Y_train)"
   ]
  },
  {
   "cell_type": "code",
   "execution_count": 264,
   "id": "5656de4d",
   "metadata": {},
   "outputs": [
    {
     "name": "stdout",
     "output_type": "stream",
     "text": [
      "-0.006158110485045741\n"
     ]
    }
   ],
   "source": [
    "print(lm.intercept_)"
   ]
  },
  {
   "cell_type": "code",
   "execution_count": 265,
   "id": "a682e0e9",
   "metadata": {},
   "outputs": [
    {
     "data": {
      "text/plain": [
       "array([-0.08414084,  0.58355285, -0.03258461,  0.03372781, -0.03259857,\n",
       "        0.23780398])"
      ]
     },
     "execution_count": 265,
     "metadata": {},
     "output_type": "execute_result"
    }
   ],
   "source": [
    "lm.coef_"
   ]
  },
  {
   "cell_type": "code",
   "execution_count": 266,
   "id": "585314af",
   "metadata": {},
   "outputs": [
    {
     "data": {
      "text/plain": [
       "Index(['AWND', 'SNOW', 'SNWD', 'TAVG', 'WDF2', 'WSF2'], dtype='object')"
      ]
     },
     "execution_count": 266,
     "metadata": {},
     "output_type": "execute_result"
    }
   ],
   "source": [
    "X_train.columns"
   ]
  },
  {
   "cell_type": "code",
   "execution_count": 267,
   "id": "15c3308d",
   "metadata": {},
   "outputs": [],
   "source": [
    "import pandas as pd"
   ]
  },
  {
   "cell_type": "code",
   "execution_count": 268,
   "id": "8be7eac3",
   "metadata": {},
   "outputs": [
    {
     "data": {
      "text/html": [
       "<div>\n",
       "<style scoped>\n",
       "    .dataframe tbody tr th:only-of-type {\n",
       "        vertical-align: middle;\n",
       "    }\n",
       "\n",
       "    .dataframe tbody tr th {\n",
       "        vertical-align: top;\n",
       "    }\n",
       "\n",
       "    .dataframe thead th {\n",
       "        text-align: right;\n",
       "    }\n",
       "</style>\n",
       "<table border=\"1\" class=\"dataframe\">\n",
       "  <thead>\n",
       "    <tr style=\"text-align: right;\">\n",
       "      <th></th>\n",
       "      <th>Coeff</th>\n",
       "    </tr>\n",
       "  </thead>\n",
       "  <tbody>\n",
       "    <tr>\n",
       "      <th>AWND</th>\n",
       "      <td>-0.084141</td>\n",
       "    </tr>\n",
       "    <tr>\n",
       "      <th>SNOW</th>\n",
       "      <td>0.583553</td>\n",
       "    </tr>\n",
       "    <tr>\n",
       "      <th>SNWD</th>\n",
       "      <td>-0.032585</td>\n",
       "    </tr>\n",
       "    <tr>\n",
       "      <th>TAVG</th>\n",
       "      <td>0.033728</td>\n",
       "    </tr>\n",
       "    <tr>\n",
       "      <th>WDF2</th>\n",
       "      <td>-0.032599</td>\n",
       "    </tr>\n",
       "    <tr>\n",
       "      <th>WSF2</th>\n",
       "      <td>0.237804</td>\n",
       "    </tr>\n",
       "  </tbody>\n",
       "</table>\n",
       "</div>"
      ],
      "text/plain": [
       "         Coeff\n",
       "AWND -0.084141\n",
       "SNOW  0.583553\n",
       "SNWD -0.032585\n",
       "TAVG  0.033728\n",
       "WDF2 -0.032599\n",
       "WSF2  0.237804"
      ]
     },
     "execution_count": 268,
     "metadata": {},
     "output_type": "execute_result"
    }
   ],
   "source": [
    "cdf = pd.DataFrame(lm.coef_, X.columns,columns=['Coeff'])\n",
    "cdf"
   ]
  },
  {
   "cell_type": "code",
   "execution_count": 269,
   "id": "cc753033",
   "metadata": {},
   "outputs": [],
   "source": [
    "Y_lr_predict = lm.predict(X_test)"
   ]
  },
  {
   "cell_type": "code",
   "execution_count": 270,
   "id": "967113df",
   "metadata": {},
   "outputs": [],
   "source": [
    "import matplotlib.pyplot as plt"
   ]
  },
  {
   "cell_type": "code",
   "execution_count": 271,
   "id": "add19a9d",
   "metadata": {},
   "outputs": [
    {
     "data": {
      "text/plain": [
       "<matplotlib.collections.PathCollection at 0x18c3b82e140>"
      ]
     },
     "execution_count": 271,
     "metadata": {},
     "output_type": "execute_result"
    },
    {
     "data": {
      "image/png": "[encoded data removed]",
      "text/plain": [
       "<Figure size 432x288 with 1 Axes>"
      ]
     },
     "metadata": {
      "needs_background": "light"
     },
     "output_type": "display_data"
    }
   ],
   "source": [
    "plt.scatter(Y_test, Y_lr_predict)"
   ]
  },
  {
   "cell_type": "markdown",
   "id": "97c292b1",
   "metadata": {},
   "source": [
    "# Predict"
   ]
  },
  {
   "cell_type": "code",
   "execution_count": 272,
   "id": "1f8853cf",
   "metadata": {},
   "outputs": [
    {
     "data": {
      "text/html": [
       "<div>\n",
       "<style scoped>\n",
       "    .dataframe tbody tr th:only-of-type {\n",
       "        vertical-align: middle;\n",
       "    }\n",
       "\n",
       "    .dataframe tbody tr th {\n",
       "        vertical-align: top;\n",
       "    }\n",
       "\n",
       "    .dataframe thead th {\n",
       "        text-align: right;\n",
       "    }\n",
       "</style>\n",
       "<table border=\"1\" class=\"dataframe\">\n",
       "  <thead>\n",
       "    <tr style=\"text-align: right;\">\n",
       "      <th></th>\n",
       "      <th>Actual</th>\n",
       "      <th>Predicted</th>\n",
       "    </tr>\n",
       "  </thead>\n",
       "  <tbody>\n",
       "    <tr>\n",
       "      <th>1704</th>\n",
       "      <td>0.223881</td>\n",
       "      <td>0.018683</td>\n",
       "    </tr>\n",
       "    <tr>\n",
       "      <th>8141</th>\n",
       "      <td>0.186567</td>\n",
       "      <td>0.048125</td>\n",
       "    </tr>\n",
       "    <tr>\n",
       "      <th>5830</th>\n",
       "      <td>0.000000</td>\n",
       "      <td>0.035810</td>\n",
       "    </tr>\n",
       "    <tr>\n",
       "      <th>10667</th>\n",
       "      <td>0.000000</td>\n",
       "      <td>0.044179</td>\n",
       "    </tr>\n",
       "    <tr>\n",
       "      <th>8738</th>\n",
       "      <td>0.000000</td>\n",
       "      <td>0.025094</td>\n",
       "    </tr>\n",
       "    <tr>\n",
       "      <th>2567</th>\n",
       "      <td>0.000000</td>\n",
       "      <td>0.030037</td>\n",
       "    </tr>\n",
       "    <tr>\n",
       "      <th>2967</th>\n",
       "      <td>0.000000</td>\n",
       "      <td>0.012111</td>\n",
       "    </tr>\n",
       "    <tr>\n",
       "      <th>7602</th>\n",
       "      <td>0.000000</td>\n",
       "      <td>0.031839</td>\n",
       "    </tr>\n",
       "    <tr>\n",
       "      <th>6294</th>\n",
       "      <td>0.000000</td>\n",
       "      <td>0.014197</td>\n",
       "    </tr>\n",
       "    <tr>\n",
       "      <th>4996</th>\n",
       "      <td>0.000000</td>\n",
       "      <td>0.015128</td>\n",
       "    </tr>\n",
       "    <tr>\n",
       "      <th>3898</th>\n",
       "      <td>0.000000</td>\n",
       "      <td>0.031460</td>\n",
       "    </tr>\n",
       "    <tr>\n",
       "      <th>7189</th>\n",
       "      <td>0.000000</td>\n",
       "      <td>0.069011</td>\n",
       "    </tr>\n",
       "    <tr>\n",
       "      <th>7952</th>\n",
       "      <td>0.000000</td>\n",
       "      <td>0.036519</td>\n",
       "    </tr>\n",
       "    <tr>\n",
       "      <th>2653</th>\n",
       "      <td>0.000000</td>\n",
       "      <td>0.035312</td>\n",
       "    </tr>\n",
       "    <tr>\n",
       "      <th>8503</th>\n",
       "      <td>0.000000</td>\n",
       "      <td>0.034294</td>\n",
       "    </tr>\n",
       "    <tr>\n",
       "      <th>5839</th>\n",
       "      <td>0.000000</td>\n",
       "      <td>-0.010234</td>\n",
       "    </tr>\n",
       "    <tr>\n",
       "      <th>1922</th>\n",
       "      <td>0.000000</td>\n",
       "      <td>0.014310</td>\n",
       "    </tr>\n",
       "    <tr>\n",
       "      <th>9108</th>\n",
       "      <td>0.000000</td>\n",
       "      <td>-0.001556</td>\n",
       "    </tr>\n",
       "    <tr>\n",
       "      <th>6978</th>\n",
       "      <td>0.000000</td>\n",
       "      <td>0.047491</td>\n",
       "    </tr>\n",
       "    <tr>\n",
       "      <th>847</th>\n",
       "      <td>0.022388</td>\n",
       "      <td>0.058538</td>\n",
       "    </tr>\n",
       "    <tr>\n",
       "      <th>4477</th>\n",
       "      <td>0.057214</td>\n",
       "      <td>0.045382</td>\n",
       "    </tr>\n",
       "    <tr>\n",
       "      <th>5157</th>\n",
       "      <td>0.211443</td>\n",
       "      <td>0.126408</td>\n",
       "    </tr>\n",
       "    <tr>\n",
       "      <th>811</th>\n",
       "      <td>0.000000</td>\n",
       "      <td>0.020004</td>\n",
       "    </tr>\n",
       "    <tr>\n",
       "      <th>7513</th>\n",
       "      <td>0.000000</td>\n",
       "      <td>0.021482</td>\n",
       "    </tr>\n",
       "    <tr>\n",
       "      <th>5413</th>\n",
       "      <td>0.000000</td>\n",
       "      <td>0.003460</td>\n",
       "    </tr>\n",
       "  </tbody>\n",
       "</table>\n",
       "</div>"
      ],
      "text/plain": [
       "         Actual  Predicted\n",
       "1704   0.223881   0.018683\n",
       "8141   0.186567   0.048125\n",
       "5830   0.000000   0.035810\n",
       "10667  0.000000   0.044179\n",
       "8738   0.000000   0.025094\n",
       "2567   0.000000   0.030037\n",
       "2967   0.000000   0.012111\n",
       "7602   0.000000   0.031839\n",
       "6294   0.000000   0.014197\n",
       "4996   0.000000   0.015128\n",
       "3898   0.000000   0.031460\n",
       "7189   0.000000   0.069011\n",
       "7952   0.000000   0.036519\n",
       "2653   0.000000   0.035312\n",
       "8503   0.000000   0.034294\n",
       "5839   0.000000  -0.010234\n",
       "1922   0.000000   0.014310\n",
       "9108   0.000000  -0.001556\n",
       "6978   0.000000   0.047491\n",
       "847    0.022388   0.058538\n",
       "4477   0.057214   0.045382\n",
       "5157   0.211443   0.126408\n",
       "811    0.000000   0.020004\n",
       "7513   0.000000   0.021482\n",
       "5413   0.000000   0.003460"
      ]
     },
     "execution_count": 272,
     "metadata": {},
     "output_type": "execute_result"
    }
   ],
   "source": [
    "result = pd.DataFrame({'Actual':Y_test, 'Predicted':Y_lr_predict})\n",
    "result.head(25)"
   ]
  },
  {
   "cell_type": "markdown",
   "id": "9af2c5df",
   "metadata": {},
   "source": [
    "# Visual and numerical analysis of models outcomes  "
   ]
  },
  {
   "cell_type": "code",
   "execution_count": null,
   "id": "b3567b64",
   "metadata": {},
   "outputs": [
    {
     "data": {
      "image/png": "[encoded data removed]",
      "text/plain": [
       "<Figure size 720x360 with 1 Axes>"
      ]
     },
     "metadata": {},
     "output_type": "display_data"
    }
   ],
   "source": [
    "Y_lr_predict_plt =lm.predict(X_test.iloc[:75,:])\n",
    "Y_test_plt = Y_test.iloc[:75]\n",
    "plt.figure(figsize=(10, 5))\n",
    "plt.plot(np.linspace(0, len(Y_lr_predict_plt), len(Y_lr_predict_plt)), Y_lr_predict_plt, label = \"Forecast Value\")\n",
    "plt.plot(np.linspace(0, len(Y_lr_predict_plt), len(Y_lr_predict_plt)), Y_test_plt, label = \"Actual Value\")\n",
    "plt.legend()\n",
    "plt.show()"
   ]
  },
  {
   "cell_type": "markdown",
   "id": "13a4f1d7",
   "metadata": {},
   "source": [
    "## Confusion matrics\n",
    "## Other metrics relavant for the model selected mean square error, accuracy and so on"
   ]
  },
  {
   "cell_type": "code",
   "execution_count": 273,
   "id": "5becb0d9",
   "metadata": {},
   "outputs": [],
   "source": [
    "from sklearn import metrics"
   ]
  },
  {
   "cell_type": "code",
   "execution_count": 274,
   "id": "430596c0",
   "metadata": {},
   "outputs": [
    {
     "data": {
      "text/plain": [
       "0.038265320798513955"
      ]
     },
     "execution_count": 274,
     "metadata": {},
     "output_type": "execute_result"
    }
   ],
   "source": [
    "metrics.mean_absolute_error(Y_test, Y_lr_predict)"
   ]
  },
  {
   "cell_type": "code",
   "execution_count": 275,
   "id": "fc28999d",
   "metadata": {},
   "outputs": [
    {
     "data": {
      "text/plain": [
       "0.0044032250315327575"
      ]
     },
     "execution_count": 275,
     "metadata": {},
     "output_type": "execute_result"
    }
   ],
   "source": [
    "metrics.mean_squared_error(Y_test, Y_lr_predict)"
   ]
  },
  {
   "cell_type": "code",
   "execution_count": 276,
   "id": "c77d8da9",
   "metadata": {},
   "outputs": [],
   "source": [
    "from sklearn.metrics import r2_score"
   ]
  },
  {
   "cell_type": "code",
   "execution_count": 277,
   "id": "9f988c3b",
   "metadata": {},
   "outputs": [
    {
     "data": {
      "text/plain": [
       "0.14284573588262406"
      ]
     },
     "execution_count": 277,
     "metadata": {},
     "output_type": "execute_result"
    }
   ],
   "source": [
    "r2_score(Y_test, Y_lr_predict)"
   ]
  },
  {
   "cell_type": "markdown",
   "id": "dd02f1c1",
   "metadata": {},
   "source": [
    "# Random Forest\n",
    "\n",
    "\n"
   ]
  },
  {
   "cell_type": "code",
   "execution_count": 279,
   "id": "7ad96c4a",
   "metadata": {},
   "outputs": [],
   "source": [
    "x = weather_df[['AWND', 'SNOW', 'SNWD', 'PRCP', 'WDF2', 'WSF2']]"
   ]
  },
  {
   "cell_type": "code",
   "execution_count": 280,
   "id": "67b3fbc5",
   "metadata": {},
   "outputs": [],
   "source": [
    "y=weather_df['TAVG']"
   ]
  },
  {
   "cell_type": "code",
   "execution_count": 281,
   "id": "a6846440",
   "metadata": {},
   "outputs": [
    {
     "data": {
      "text/html": [
       "<div>\n",
       "<style scoped>\n",
       "    .dataframe tbody tr th:only-of-type {\n",
       "        vertical-align: middle;\n",
       "    }\n",
       "\n",
       "    .dataframe tbody tr th {\n",
       "        vertical-align: top;\n",
       "    }\n",
       "\n",
       "    .dataframe thead th {\n",
       "        text-align: right;\n",
       "    }\n",
       "</style>\n",
       "<table border=\"1\" class=\"dataframe\">\n",
       "  <thead>\n",
       "    <tr style=\"text-align: right;\">\n",
       "      <th></th>\n",
       "      <th>AWND</th>\n",
       "      <th>SNOW</th>\n",
       "      <th>SNWD</th>\n",
       "      <th>PRCP</th>\n",
       "      <th>WDF2</th>\n",
       "      <th>WSF2</th>\n",
       "    </tr>\n",
       "  </thead>\n",
       "  <tbody>\n",
       "    <tr>\n",
       "      <th>0</th>\n",
       "      <td>0.818428</td>\n",
       "      <td>0.009615</td>\n",
       "      <td>0.030769</td>\n",
       "      <td>0.000000</td>\n",
       "      <td>0.657143</td>\n",
       "      <td>0.564309</td>\n",
       "    </tr>\n",
       "    <tr>\n",
       "      <th>1</th>\n",
       "      <td>0.431911</td>\n",
       "      <td>0.000000</td>\n",
       "      <td>0.030769</td>\n",
       "      <td>0.000000</td>\n",
       "      <td>0.685714</td>\n",
       "      <td>0.389068</td>\n",
       "    </tr>\n",
       "    <tr>\n",
       "      <th>2</th>\n",
       "      <td>0.272696</td>\n",
       "      <td>0.000000</td>\n",
       "      <td>0.000000</td>\n",
       "      <td>0.144279</td>\n",
       "      <td>0.142857</td>\n",
       "      <td>0.162379</td>\n",
       "    </tr>\n",
       "    <tr>\n",
       "      <th>3</th>\n",
       "      <td>0.583333</td>\n",
       "      <td>0.000000</td>\n",
       "      <td>0.000000</td>\n",
       "      <td>0.129353</td>\n",
       "      <td>0.685714</td>\n",
       "      <td>0.532154</td>\n",
       "    </tr>\n",
       "    <tr>\n",
       "      <th>4</th>\n",
       "      <td>0.636518</td>\n",
       "      <td>0.003205</td>\n",
       "      <td>0.000000</td>\n",
       "      <td>0.000000</td>\n",
       "      <td>0.742857</td>\n",
       "      <td>0.421222</td>\n",
       "    </tr>\n",
       "    <tr>\n",
       "      <th>...</th>\n",
       "      <td>...</td>\n",
       "      <td>...</td>\n",
       "      <td>...</td>\n",
       "      <td>...</td>\n",
       "      <td>...</td>\n",
       "      <td>...</td>\n",
       "    </tr>\n",
       "    <tr>\n",
       "      <th>10955</th>\n",
       "      <td>0.242547</td>\n",
       "      <td>0.000000</td>\n",
       "      <td>0.000000</td>\n",
       "      <td>0.000000</td>\n",
       "      <td>0.771429</td>\n",
       "      <td>0.241158</td>\n",
       "    </tr>\n",
       "    <tr>\n",
       "      <th>10956</th>\n",
       "      <td>0.356030</td>\n",
       "      <td>0.000000</td>\n",
       "      <td>0.000000</td>\n",
       "      <td>0.000000</td>\n",
       "      <td>0.742857</td>\n",
       "      <td>0.241158</td>\n",
       "    </tr>\n",
       "    <tr>\n",
       "      <th>10957</th>\n",
       "      <td>0.530488</td>\n",
       "      <td>0.000000</td>\n",
       "      <td>0.000000</td>\n",
       "      <td>0.000000</td>\n",
       "      <td>0.914286</td>\n",
       "      <td>0.389068</td>\n",
       "    </tr>\n",
       "    <tr>\n",
       "      <th>10958</th>\n",
       "      <td>0.310637</td>\n",
       "      <td>0.000000</td>\n",
       "      <td>0.000000</td>\n",
       "      <td>0.000000</td>\n",
       "      <td>0.571429</td>\n",
       "      <td>0.241158</td>\n",
       "    </tr>\n",
       "    <tr>\n",
       "      <th>10959</th>\n",
       "      <td>0.363482</td>\n",
       "      <td>0.000000</td>\n",
       "      <td>0.000000</td>\n",
       "      <td>0.089552</td>\n",
       "      <td>0.914286</td>\n",
       "      <td>0.258842</td>\n",
       "    </tr>\n",
       "  </tbody>\n",
       "</table>\n",
       "<p>10960 rows × 6 columns</p>\n",
       "</div>"
      ],
      "text/plain": [
       "           AWND      SNOW      SNWD      PRCP      WDF2      WSF2\n",
       "0      0.818428  0.009615  0.030769  0.000000  0.657143  0.564309\n",
       "1      0.431911  0.000000  0.030769  0.000000  0.685714  0.389068\n",
       "2      0.272696  0.000000  0.000000  0.144279  0.142857  0.162379\n",
       "3      0.583333  0.000000  0.000000  0.129353  0.685714  0.532154\n",
       "4      0.636518  0.003205  0.000000  0.000000  0.742857  0.421222\n",
       "...         ...       ...       ...       ...       ...       ...\n",
       "10955  0.242547  0.000000  0.000000  0.000000  0.771429  0.241158\n",
       "10956  0.356030  0.000000  0.000000  0.000000  0.742857  0.241158\n",
       "10957  0.530488  0.000000  0.000000  0.000000  0.914286  0.389068\n",
       "10958  0.310637  0.000000  0.000000  0.000000  0.571429  0.241158\n",
       "10959  0.363482  0.000000  0.000000  0.089552  0.914286  0.258842\n",
       "\n",
       "[10960 rows x 6 columns]"
      ]
     },
     "execution_count": 281,
     "metadata": {},
     "output_type": "execute_result"
    }
   ],
   "source": [
    "x"
   ]
  },
  {
   "cell_type": "code",
   "execution_count": 282,
   "id": "342a4a65",
   "metadata": {},
   "outputs": [],
   "source": [
    "x_train, x_test, y_train,y_test = train_test_split(x,y,test_size = 0.3, random_state = 53)"
   ]
  },
  {
   "cell_type": "code",
   "execution_count": 283,
   "id": "e59c4589",
   "metadata": {},
   "outputs": [
    {
     "data": {
      "text/html": [
       "<div>\n",
       "<style scoped>\n",
       "    .dataframe tbody tr th:only-of-type {\n",
       "        vertical-align: middle;\n",
       "    }\n",
       "\n",
       "    .dataframe tbody tr th {\n",
       "        vertical-align: top;\n",
       "    }\n",
       "\n",
       "    .dataframe thead th {\n",
       "        text-align: right;\n",
       "    }\n",
       "</style>\n",
       "<table border=\"1\" class=\"dataframe\">\n",
       "  <thead>\n",
       "    <tr style=\"text-align: right;\">\n",
       "      <th></th>\n",
       "      <th>AWND</th>\n",
       "      <th>SNOW</th>\n",
       "      <th>SNWD</th>\n",
       "      <th>PRCP</th>\n",
       "      <th>WDF2</th>\n",
       "      <th>WSF2</th>\n",
       "    </tr>\n",
       "  </thead>\n",
       "  <tbody>\n",
       "    <tr>\n",
       "      <th>304</th>\n",
       "      <td>0.598577</td>\n",
       "      <td>0.0</td>\n",
       "      <td>0.000000</td>\n",
       "      <td>0.037313</td>\n",
       "      <td>0.657143</td>\n",
       "      <td>0.485531</td>\n",
       "    </tr>\n",
       "    <tr>\n",
       "      <th>3914</th>\n",
       "      <td>0.030149</td>\n",
       "      <td>0.0</td>\n",
       "      <td>0.000000</td>\n",
       "      <td>0.000000</td>\n",
       "      <td>0.400000</td>\n",
       "      <td>0.032154</td>\n",
       "    </tr>\n",
       "    <tr>\n",
       "      <th>2796</th>\n",
       "      <td>0.037940</td>\n",
       "      <td>0.0</td>\n",
       "      <td>0.000000</td>\n",
       "      <td>0.000000</td>\n",
       "      <td>1.000000</td>\n",
       "      <td>0.051447</td>\n",
       "    </tr>\n",
       "    <tr>\n",
       "      <th>3430</th>\n",
       "      <td>0.310637</td>\n",
       "      <td>0.0</td>\n",
       "      <td>0.000000</td>\n",
       "      <td>0.000000</td>\n",
       "      <td>0.800000</td>\n",
       "      <td>0.305466</td>\n",
       "    </tr>\n",
       "    <tr>\n",
       "      <th>2216</th>\n",
       "      <td>0.454607</td>\n",
       "      <td>0.0</td>\n",
       "      <td>0.030769</td>\n",
       "      <td>0.000000</td>\n",
       "      <td>0.800000</td>\n",
       "      <td>0.421222</td>\n",
       "    </tr>\n",
       "    <tr>\n",
       "      <th>...</th>\n",
       "      <td>...</td>\n",
       "      <td>...</td>\n",
       "      <td>...</td>\n",
       "      <td>...</td>\n",
       "      <td>...</td>\n",
       "      <td>...</td>\n",
       "    </tr>\n",
       "    <tr>\n",
       "      <th>3261</th>\n",
       "      <td>0.424119</td>\n",
       "      <td>0.0</td>\n",
       "      <td>0.000000</td>\n",
       "      <td>0.057214</td>\n",
       "      <td>0.428571</td>\n",
       "      <td>0.241158</td>\n",
       "    </tr>\n",
       "    <tr>\n",
       "      <th>6565</th>\n",
       "      <td>0.181911</td>\n",
       "      <td>0.0</td>\n",
       "      <td>0.646154</td>\n",
       "      <td>0.004975</td>\n",
       "      <td>0.600000</td>\n",
       "      <td>0.115756</td>\n",
       "    </tr>\n",
       "    <tr>\n",
       "      <th>2933</th>\n",
       "      <td>0.537940</td>\n",
       "      <td>0.0</td>\n",
       "      <td>0.000000</td>\n",
       "      <td>0.002488</td>\n",
       "      <td>0.485714</td>\n",
       "      <td>0.514469</td>\n",
       "    </tr>\n",
       "    <tr>\n",
       "      <th>8989</th>\n",
       "      <td>0.310637</td>\n",
       "      <td>0.0</td>\n",
       "      <td>0.000000</td>\n",
       "      <td>0.000000</td>\n",
       "      <td>0.371429</td>\n",
       "      <td>0.212219</td>\n",
       "    </tr>\n",
       "    <tr>\n",
       "      <th>7705</th>\n",
       "      <td>0.371274</td>\n",
       "      <td>0.0</td>\n",
       "      <td>0.000000</td>\n",
       "      <td>0.000000</td>\n",
       "      <td>0.628571</td>\n",
       "      <td>0.241158</td>\n",
       "    </tr>\n",
       "  </tbody>\n",
       "</table>\n",
       "<p>7672 rows × 6 columns</p>\n",
       "</div>"
      ],
      "text/plain": [
       "          AWND  SNOW      SNWD      PRCP      WDF2      WSF2\n",
       "304   0.598577   0.0  0.000000  0.037313  0.657143  0.485531\n",
       "3914  0.030149   0.0  0.000000  0.000000  0.400000  0.032154\n",
       "2796  0.037940   0.0  0.000000  0.000000  1.000000  0.051447\n",
       "3430  0.310637   0.0  0.000000  0.000000  0.800000  0.305466\n",
       "2216  0.454607   0.0  0.030769  0.000000  0.800000  0.421222\n",
       "...        ...   ...       ...       ...       ...       ...\n",
       "3261  0.424119   0.0  0.000000  0.057214  0.428571  0.241158\n",
       "6565  0.181911   0.0  0.646154  0.004975  0.600000  0.115756\n",
       "2933  0.537940   0.0  0.000000  0.002488  0.485714  0.514469\n",
       "8989  0.310637   0.0  0.000000  0.000000  0.371429  0.212219\n",
       "7705  0.371274   0.0  0.000000  0.000000  0.628571  0.241158\n",
       "\n",
       "[7672 rows x 6 columns]"
      ]
     },
     "execution_count": 283,
     "metadata": {},
     "output_type": "execute_result"
    }
   ],
   "source": [
    "x_train"
   ]
  },
  {
   "cell_type": "code",
   "execution_count": 284,
   "id": "006e11f6",
   "metadata": {},
   "outputs": [
    {
     "data": {
      "text/plain": [
       "304     0.621053\n",
       "3914    0.642105\n",
       "2796    0.842105\n",
       "3430    0.747368\n",
       "2216    0.378947\n",
       "          ...   \n",
       "3261    0.536842\n",
       "6565    0.400000\n",
       "2933    0.494737\n",
       "8989    0.852632\n",
       "7705    0.273684\n",
       "Name: TAVG, Length: 7672, dtype: float64"
      ]
     },
     "execution_count": 284,
     "metadata": {},
     "output_type": "execute_result"
    }
   ],
   "source": [
    "y_train"
   ]
  },
  {
   "cell_type": "code",
   "execution_count": 285,
   "id": "9415646a",
   "metadata": {},
   "outputs": [],
   "source": [
    "from sklearn.ensemble import RandomForestRegressor"
   ]
  },
  {
   "cell_type": "code",
   "execution_count": 286,
   "id": "1098f525",
   "metadata": {},
   "outputs": [],
   "source": [
    "regressor = RandomForestRegressor(n_estimators=100, random_state=101)"
   ]
  },
  {
   "cell_type": "code",
   "execution_count": 287,
   "id": "76625f94",
   "metadata": {},
   "outputs": [
    {
     "data": {
      "text/plain": [
       "RandomForestRegressor(random_state=101)"
      ]
     },
     "execution_count": 287,
     "metadata": {},
     "output_type": "execute_result"
    }
   ],
   "source": [
    "regressor.fit(x_train,y_train)"
   ]
  },
  {
   "cell_type": "code",
   "execution_count": 288,
   "id": "a34649e9",
   "metadata": {},
   "outputs": [],
   "source": [
    "y_rf_predict = regressor.predict(x_test)"
   ]
  },
  {
   "cell_type": "code",
   "execution_count": 289,
   "id": "ebe57b2e",
   "metadata": {},
   "outputs": [
    {
     "data": {
      "text/plain": [
       "<matplotlib.collections.PathCollection at 0x18c508eb1c0>"
      ]
     },
     "execution_count": 289,
     "metadata": {},
     "output_type": "execute_result"
    },
    {
     "data": {
      "image/png": "[encoded data removed]",
      "text/plain": [
       "<Figure size 432x288 with 1 Axes>"
      ]
     },
     "metadata": {
      "needs_background": "light"
     },
     "output_type": "display_data"
    }
   ],
   "source": [
    "plt.scatter(y_test, y_rf_predict)"
   ]
  },
  {
   "cell_type": "markdown",
   "id": "97c292b1",
   "metadata": {},
   "source": [
    "# Predict"
   ]
  },
  {
   "cell_type": "code",
   "execution_count": 290,
   "id": "85a54f6d",
   "metadata": {},
   "outputs": [
    {
     "data": {
      "text/html": [
       "<div>\n",
       "<style scoped>\n",
       "    .dataframe tbody tr th:only-of-type {\n",
       "        vertical-align: middle;\n",
       "    }\n",
       "\n",
       "    .dataframe tbody tr th {\n",
       "        vertical-align: top;\n",
       "    }\n",
       "\n",
       "    .dataframe thead th {\n",
       "        text-align: right;\n",
       "    }\n",
       "</style>\n",
       "<table border=\"1\" class=\"dataframe\">\n",
       "  <thead>\n",
       "    <tr style=\"text-align: right;\">\n",
       "      <th></th>\n",
       "      <th>Actual</th>\n",
       "      <th>Predicted</th>\n",
       "    </tr>\n",
       "  </thead>\n",
       "  <tbody>\n",
       "    <tr>\n",
       "      <th>2830</th>\n",
       "      <td>0.673684</td>\n",
       "      <td>0.607316</td>\n",
       "    </tr>\n",
       "    <tr>\n",
       "      <th>4142</th>\n",
       "      <td>0.673684</td>\n",
       "      <td>0.472632</td>\n",
       "    </tr>\n",
       "    <tr>\n",
       "      <th>8287</th>\n",
       "      <td>0.768421</td>\n",
       "      <td>0.649096</td>\n",
       "    </tr>\n",
       "    <tr>\n",
       "      <th>6468</th>\n",
       "      <td>0.589474</td>\n",
       "      <td>0.661053</td>\n",
       "    </tr>\n",
       "    <tr>\n",
       "      <th>325</th>\n",
       "      <td>0.463158</td>\n",
       "      <td>0.609211</td>\n",
       "    </tr>\n",
       "    <tr>\n",
       "      <th>9322</th>\n",
       "      <td>0.884211</td>\n",
       "      <td>0.640684</td>\n",
       "    </tr>\n",
       "    <tr>\n",
       "      <th>5210</th>\n",
       "      <td>0.500000</td>\n",
       "      <td>0.735632</td>\n",
       "    </tr>\n",
       "    <tr>\n",
       "      <th>3013</th>\n",
       "      <td>0.468421</td>\n",
       "      <td>0.430737</td>\n",
       "    </tr>\n",
       "    <tr>\n",
       "      <th>8359</th>\n",
       "      <td>0.515789</td>\n",
       "      <td>0.613789</td>\n",
       "    </tr>\n",
       "    <tr>\n",
       "      <th>1684</th>\n",
       "      <td>0.821053</td>\n",
       "      <td>0.655495</td>\n",
       "    </tr>\n",
       "    <tr>\n",
       "      <th>499</th>\n",
       "      <td>0.621053</td>\n",
       "      <td>0.698509</td>\n",
       "    </tr>\n",
       "    <tr>\n",
       "      <th>5070</th>\n",
       "      <td>0.526316</td>\n",
       "      <td>0.732245</td>\n",
       "    </tr>\n",
       "    <tr>\n",
       "      <th>1306</th>\n",
       "      <td>0.800000</td>\n",
       "      <td>0.559035</td>\n",
       "    </tr>\n",
       "    <tr>\n",
       "      <th>8430</th>\n",
       "      <td>0.421053</td>\n",
       "      <td>0.589105</td>\n",
       "    </tr>\n",
       "    <tr>\n",
       "      <th>8143</th>\n",
       "      <td>0.621053</td>\n",
       "      <td>0.649904</td>\n",
       "    </tr>\n",
       "    <tr>\n",
       "      <th>6815</th>\n",
       "      <td>0.810526</td>\n",
       "      <td>0.767929</td>\n",
       "    </tr>\n",
       "    <tr>\n",
       "      <th>7827</th>\n",
       "      <td>0.715789</td>\n",
       "      <td>0.731474</td>\n",
       "    </tr>\n",
       "    <tr>\n",
       "      <th>10558</th>\n",
       "      <td>0.557895</td>\n",
       "      <td>0.795957</td>\n",
       "    </tr>\n",
       "    <tr>\n",
       "      <th>8535</th>\n",
       "      <td>0.589474</td>\n",
       "      <td>0.645500</td>\n",
       "    </tr>\n",
       "    <tr>\n",
       "      <th>9798</th>\n",
       "      <td>0.626316</td>\n",
       "      <td>0.700308</td>\n",
       "    </tr>\n",
       "    <tr>\n",
       "      <th>697</th>\n",
       "      <td>0.494737</td>\n",
       "      <td>0.782209</td>\n",
       "    </tr>\n",
       "    <tr>\n",
       "      <th>7998</th>\n",
       "      <td>0.294737</td>\n",
       "      <td>0.805118</td>\n",
       "    </tr>\n",
       "    <tr>\n",
       "      <th>10715</th>\n",
       "      <td>0.642105</td>\n",
       "      <td>0.600684</td>\n",
       "    </tr>\n",
       "    <tr>\n",
       "      <th>1699</th>\n",
       "      <td>0.789474</td>\n",
       "      <td>0.722053</td>\n",
       "    </tr>\n",
       "    <tr>\n",
       "      <th>8164</th>\n",
       "      <td>0.694737</td>\n",
       "      <td>0.575693</td>\n",
       "    </tr>\n",
       "  </tbody>\n",
       "</table>\n",
       "</div>"
      ],
      "text/plain": [
       "         Actual  Predicted\n",
       "2830   0.673684   0.607316\n",
       "4142   0.673684   0.472632\n",
       "8287   0.768421   0.649096\n",
       "6468   0.589474   0.661053\n",
       "325    0.463158   0.609211\n",
       "9322   0.884211   0.640684\n",
       "5210   0.500000   0.735632\n",
       "3013   0.468421   0.430737\n",
       "8359   0.515789   0.613789\n",
       "1684   0.821053   0.655495\n",
       "499    0.621053   0.698509\n",
       "5070   0.526316   0.732245\n",
       "1306   0.800000   0.559035\n",
       "8430   0.421053   0.589105\n",
       "8143   0.621053   0.649904\n",
       "6815   0.810526   0.767929\n",
       "7827   0.715789   0.731474\n",
       "10558  0.557895   0.795957\n",
       "8535   0.589474   0.645500\n",
       "9798   0.626316   0.700308\n",
       "697    0.494737   0.782209\n",
       "7998   0.294737   0.805118\n",
       "10715  0.642105   0.600684\n",
       "1699   0.789474   0.722053\n",
       "8164   0.694737   0.575693"
      ]
     },
     "execution_count": 290,
     "metadata": {},
     "output_type": "execute_result"
    }
   ],
   "source": [
    "result = pd.DataFrame({'Actual':y_test, 'Predicted':y_rf_predict})\n",
    "result.head(25)"
   ]
  },
  {
   "cell_type": "markdown",
   "id": "9af2c5df",
   "metadata": {},
   "source": [
    "# Visual and numerical analysis of models outcomes  "
   ]
  },
  {
   "cell_type": "code",
   "execution_count": 292,
   "id": "822a3a1b",
   "metadata": {},
   "outputs": [
    {
     "data": {
      "image/png": "[encoded data removed]",
      "text/plain": [
       "<Figure size 720x360 with 1 Axes>"
      ]
     },
     "metadata": {
      "needs_background": "light"
     },
     "output_type": "display_data"
    }
   ],
   "source": [
    "y_rf_predict_plt =regressor.predict(x_test.iloc[:75,:])\n",
    "y_test_plt = y_test.iloc[:75]\n",
    "plt.figure(figsize=(10, 5))\n",
    "plt.plot(np.linspace(0, len(y_rf_predict_plt), len(y_rf_predict_plt)), y_rf_predict_plt, label = \"Forecast Value\")\n",
    "plt.plot(np.linspace(0, len(y_rf_predict_plt), len(y_rf_predict_plt)), y_test_plt, label = \"Actual Value\")\n",
    "plt.legend()\n",
    "plt.show()"
   ]
  },
  {
   "cell_type": "markdown",
   "id": "13a4f1d7",
   "metadata": {},
   "source": [
    "## Confusion matrics\n",
    "## Other metrics relavant for the model selected mean square error, accuracy and so on"
   ]
  },
  {
   "cell_type": "code",
   "execution_count": null,
   "id": "0ccc102e",
   "metadata": {},
   "outputs": [],
   "source": [
    "metrics.mean_absolute_error(y_test, y_rf_predict)"
   ]
  },
  {
   "cell_type": "code",
   "execution_count": null,
   "id": "bd8a391e",
   "metadata": {},
   "outputs": [
    {
     "data": {
      "text/plain": [
       "0.024450207869458798"
      ]
     },
     "metadata": {},
     "output_type": "display_data"
    }
   ],
   "source": [
    "metrics.mean_squared_error(y_test, y_rf_predict)"
   ]
  },
  {
   "cell_type": "code",
   "execution_count": null,
   "id": "bbb7f502",
   "metadata": {},
   "outputs": [
    {
     "data": {
      "text/plain": [
       "0.33950219177954355"
      ]
     },
     "metadata": {},
     "output_type": "display_data"
    }
   ],
   "source": [
    "r2_score(y_test, y_rf_predict)"
   ]
  },
  {
   "cell_type": "markdown",
   "id": "23cf14ac",
   "metadata": {},
   "source": [
    "<!--  -->"
   ]
  },
  {
   "cell_type": "markdown",
   "id": "ed7257cd",
   "metadata": {},
   "source": [
    "# Comparison"
   ]
  },
  {
   "cell_type": "markdown",
   "id": "7ff1c01f",
   "metadata": {},
   "source": [
    "# Conclusion and Future work "
   ]
  },
  {
   "cell_type": "code",
   "execution_count": null,
   "id": "4aa96223",
   "metadata": {},
   "outputs": [],
   "source": []
  }
 ],
 "metadata": {
  "kernelspec": {
   "display_name": "Python 3 (ipykernel)",
   "language": "python",
   "name": "python3"
  },
  "language_info": {
   "codemirror_mode": {
    "name": "ipython",
    "version": 3
   },
   "file_extension": ".py",
   "mimetype": "text/x-python",
   "name": "python",
   "nbconvert_exporter": "python",
   "pygments_lexer": "ipython3",
   "version": "3.10.4"
  }
 },
 "nbformat": 4,
 "nbformat_minor": 5
}
